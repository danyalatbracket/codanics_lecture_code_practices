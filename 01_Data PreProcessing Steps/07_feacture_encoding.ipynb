{
 "cells": [
  {
   "cell_type": "markdown",
   "metadata": {},
   "source": [
    "# Feature Encoding\n",
    "Feature encoding is the process of converting categorical data into numerical format so that machine learning algorithms can process it. This notebook demonstrates various feature encoding techniques."
   ]
  },
  {
   "cell_type": "code",
   "execution_count": 1,
   "metadata": {},
   "outputs": [],
   "source": [
    "# Import required libraries\n",
    "import pandas as pd\n",
    "from sklearn.preprocessing import LabelEncoder, OneHotEncoder\n",
    "from sklearn.compose import ColumnTransformer\n",
    "from sklearn.pipeline import Pipeline\n"
   ]
  },
  {
   "cell_type": "markdown",
   "metadata": {},
   "source": [
    "# Load Dataset\n",
    "For this example, we will use a sample dataset."
   ]
  },
  {
   "cell_type": "code",
   "execution_count": 2,
   "metadata": {},
   "outputs": [],
   "source": [
    "# Sample dataset\n",
    "data = {\n",
    "    'city': ['Karachi', 'Lahore', 'Islamabad', 'Karachi', 'Lahore'],\n",
    "    'gender': ['Male', 'Female', 'Female', 'Male', 'Female'],\n",
    "    'education': ['Bachelors', 'Masters', 'PhD', 'Bachelors', 'Masters']\n",
    "}\n",
    "df = pd.DataFrame(data)\n",
    "df.head()"
   ]
  },
  {
   "cell_type": "markdown",
   "metadata": {},
   "source": [
    "# Label Encoding\n",
    "Label encoding assigns a unique integer to each category."
   ]
  },
  {
   "cell_type": "code",
   "execution_count": 3,
   "metadata": {},
   "outputs": [],
   "source": [
    "# Initialize LabelEncoder\n",
    "label_encoder = LabelEncoder()\n",
    "\n",
    "# Apply LabelEncoder to 'gender' column\n",
    "df['gender_encoded'] = label_encoder.fit_transform(df['gender'])\n",
    "df.head()"
   ]
  },
  {
   "cell_type": "markdown",
   "metadata": {},
   "source": [
    "# One-Hot Encoding\n",
    "One-hot encoding creates binary columns for each category, indicating the presence or absence of the category."
   ]
  },
  {
   "cell_type": "code",
   "execution_count": 4,
   "metadata": {},
   "outputs": [],
   "source": [
    "# Initialize OneHotEncoder\n",
    "onehot_encoder = OneHotEncoder(sparse=False)\n",
    "\n",
    "# Apply OneHotEncoder to 'city' column\n",
    "city_encoded = onehot_encoder.fit_transform(df[['city']])\n",
    "\n",
    "# Create a DataFrame with the encoded columns\n",
    "city_encoded_df = pd.DataFrame(city_encoded, columns=onehot_encoder.get_feature_names_out(['city']))\n",
    "\n",
    "# Concatenate the original DataFrame with the encoded DataFrame\n",
    "df = pd.concat([df, city_encoded_df], axis=1)\n",
    "df.head()"
   ]
  },
  {
   "cell_type": "markdown",
   "metadata": {},
   "source": [
    "# ColumnTransformer and Pipeline\n",
    "Using ColumnTransformer and Pipeline to apply different encodings to different columns."
   ]
  },
  {
   "cell_type": "code",
   "execution_count": 5,
   "metadata": {},
   "outputs": [],
   "source": [
    "# Define the ColumnTransformer\n",
    "column_transformer = ColumnTransformer(\n",
    "    transformers=[\n",
    "        ('city_onehot', OneHotEncoder(), ['city']),\n",
    "        ('gender_label', LabelEncoder(), ['gender'])\n",
    "    ],\n",
    "    remainder='passthrough'\n",
    ")\n",
    "\n",
    "# Apply the ColumnTransformer\n",
    "transformed_data = column_transformer.fit_transform(df)\n",
    "\n",
    "# Convert the transformed data to a DataFrame\n",
    "transformed_df = pd.DataFrame(transformed_data, columns=column_transformer.get_feature_names_out())\n",
    "transformed_df.head()"
   ]
  }
 ],
 "metadata": {
  "kernelspec": {
   "display_name": "python_ml",
   "language": "python",
   "name": "python3"
  },
  "language_info": {
   "name": "python",
   "version": "3.13.1"
  }
 },
 "nbformat": 4,
 "nbformat_minor": 2
}