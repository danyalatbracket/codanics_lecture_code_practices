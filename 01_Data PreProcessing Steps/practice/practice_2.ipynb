{
 "cells": [
  {
   "cell_type": "code",
   "execution_count": 4,
   "metadata": {},
   "outputs": [
    {
     "name": "stdout",
     "output_type": "stream",
     "text": [
      "MSE:  0.38758102511348064\n",
      "r2:  0.5960035062220497\n",
      "[3.50046172]\n"
     ]
    },
    {
     "name": "stderr",
     "output_type": "stream",
     "text": [
      "c:\\Users\\hp\\anaconda3\\envs\\python_ml\\Lib\\site-packages\\sklearn\\utils\\validation.py:2739: UserWarning: X does not have valid feature names, but LinearRegression was fitted with feature names\n",
      "  warnings.warn(\n"
     ]
    }
   ],
   "source": [
    "# Import required libraries\n",
    "import pandas as pd\n",
    "import numpy as np\n",
    "import matplotlib.pyplot as plt\n",
    "import seaborn as sns\n",
    "from sklearn.model_selection import train_test_split\n",
    "from sklearn.preprocessing import StandardScaler, LabelEncoder\n",
    "from sklearn.linear_model import LinearRegression\n",
    "from sklearn.metrics import mean_squared_error, r2_score\n",
    "\n",
    "# Load dataset\n",
    "df = sns.load_dataset(\"tips\")\n",
    "\n",
    "# Preprocessing the data before splitting\n",
    "scaler = StandardScaler()\n",
    "df[[\"total_bill\", \"tip\"]] = scaler.fit_transform(df[[\"total_bill\", \"tip\"]])\n",
    "\n",
    "# Separate features (inputs or 'X') and targets / labels (outputs or 'Y')\n",
    "X = df[[\"total_bill\"]]\n",
    "Y = df[[\"tip\"]]\n",
    "\n",
    "# Split the data into training and testing sets\n",
    "X_train, X_test, Y_train, Y_test = train_test_split(X, Y, test_size=0.2)\n",
    "\n",
    "# Create Model instance\n",
    "model = LinearRegression()\n",
    "\n",
    "# Fit the model or train the model\n",
    "model.fit(X_train, Y_train)\n",
    "\n",
    "# Prediction by model\n",
    "Y_pred = model.predict(X_test)\n",
    "\n",
    "# Evaluate the model\n",
    "print(\"MSE: \", mean_squared_error(Y_test, Y_pred))\n",
    "print(\"r2: \", r2_score(Y_test, Y_pred))\n",
    "\n",
    "# Transform the input value before predicting\n",
    "original_value = pd.DataFrame({\"total_bill\": [24.59], \"tip\": [0]})\n",
    "scaled_value = scaler.transform(original_value)\n",
    "predicted_scaled_value = model.predict(scaled_value[:, 0].reshape(-1, 1))\n",
    "\n",
    "# Inverse transform the predicted value to get it back to the original scale\n",
    "# Note: Since we are predicting 'tip', we need to inverse transform only the 'tip' column\n",
    "predicted_original_value = scaler.inverse_transform(\n",
    "    np.concatenate((scaled_value[:, 0].reshape(-1, 1), predicted_scaled_value), axis=1)\n",
    ")[:, 1]\n",
    "\n",
    "print(predicted_original_value)"
   ]
  }
 ],
 "metadata": {
  "kernelspec": {
   "display_name": "python_ml",
   "language": "python",
   "name": "python3"
  },
  "language_info": {
   "codemirror_mode": {
    "name": "ipython",
    "version": 3
   },
   "file_extension": ".py",
   "mimetype": "text/x-python",
   "name": "python",
   "nbconvert_exporter": "python",
   "pygments_lexer": "ipython3",
   "version": "3.13.1"
  }
 },
 "nbformat": 4,
 "nbformat_minor": 2
}
